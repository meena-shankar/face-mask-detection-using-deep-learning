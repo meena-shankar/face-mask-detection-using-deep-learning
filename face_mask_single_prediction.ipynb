{
  "nbformat": 4,
  "nbformat_minor": 0,
  "metadata": {
    "colab": {
      "name": "face_mask_single_prediction.ipynb",
      "provenance": [],
      "collapsed_sections": []
    },
    "kernelspec": {
      "name": "python3",
      "display_name": "Python 3"
    }
  },
  "cells": [
    {
      "cell_type": "code",
      "metadata": {
        "id": "um0-Vi4H5qub"
      },
      "source": [
        "import tensorflow as tf\n",
        "from keras.preprocessing.image import ImageDataGenerator"
      ],
      "execution_count": 1,
      "outputs": []
    },
    {
      "cell_type": "code",
      "metadata": {
        "id": "TD6aBET56Ic9",
        "outputId": "d5cc8644-1cee-4807-a991-b762d3dd85e3",
        "colab": {
          "base_uri": "https://localhost:8080/",
          "height": 35
        }
      },
      "source": [
        "tf.__version__"
      ],
      "execution_count": 2,
      "outputs": [
        {
          "output_type": "execute_result",
          "data": {
            "application/vnd.google.colaboratory.intrinsic+json": {
              "type": "string"
            },
            "text/plain": [
              "'2.3.0'"
            ]
          },
          "metadata": {
            "tags": []
          },
          "execution_count": 2
        }
      ]
    },
    {
      "cell_type": "code",
      "metadata": {
        "id": "bGrVKift6MTq",
        "outputId": "c4937758-71e0-4d6b-d6dc-a774829dc2d6",
        "colab": {
          "base_uri": "https://localhost:8080/",
          "height": 34
        }
      },
      "source": [
        "train_datagen = ImageDataGenerator(rescale = 1./255,\n",
        "                                   shear_range = 0.2,\n",
        "                                   zoom_range = 0.2,\n",
        "                                   horizontal_flip = True)\n",
        "training_set = train_datagen.flow_from_directory('/content/drive/My Drive/face_mask/train',\n",
        "                                                 target_size = (64, 64),\n",
        "                                                 batch_size = 32,\n",
        "                                                 class_mode = 'binary')"
      ],
      "execution_count": 4,
      "outputs": [
        {
          "output_type": "stream",
          "text": [
            "Found 360 images belonging to 2 classes.\n"
          ],
          "name": "stdout"
        }
      ]
    },
    {
      "cell_type": "code",
      "metadata": {
        "id": "BTp9Y1Bx6czZ",
        "outputId": "144067dc-9b5b-4a3a-86a3-69e482db72f0",
        "colab": {
          "base_uri": "https://localhost:8080/",
          "height": 34
        }
      },
      "source": [
        "test_datagen = ImageDataGenerator(rescale = 1./255)\n",
        "test_set = test_datagen.flow_from_directory('/content/drive/My Drive/face_mask/test',\n",
        "                                            target_size = (64, 64),\n",
        "                                            batch_size = 32,\n",
        "                                            class_mode = 'binary')"
      ],
      "execution_count": 5,
      "outputs": [
        {
          "output_type": "stream",
          "text": [
            "Found 80 images belonging to 2 classes.\n"
          ],
          "name": "stdout"
        }
      ]
    },
    {
      "cell_type": "markdown",
      "metadata": {
        "id": "sEu7vN_M6rYp"
      },
      "source": [
        "\n",
        "Building CNN\n",
        "\n",
        "```\n",
        "\n"
      ]
    },
    {
      "cell_type": "code",
      "metadata": {
        "id": "uUt8AoPY64At"
      },
      "source": [
        "cnn = tf.keras.models.Sequential()"
      ],
      "execution_count": 7,
      "outputs": []
    },
    {
      "cell_type": "code",
      "metadata": {
        "id": "mpLoecGQ6-zD"
      },
      "source": [
        "cnn.add(tf.keras.layers.Conv2D(filters=32, kernel_size=3, activation='relu', input_shape=[64, 64, 3]))"
      ],
      "execution_count": 9,
      "outputs": []
    },
    {
      "cell_type": "code",
      "metadata": {
        "id": "vQXu8MMY7Q2k"
      },
      "source": [
        "cnn.add(tf.keras.layers.MaxPool2D(pool_size=2, strides=2))"
      ],
      "execution_count": 10,
      "outputs": []
    },
    {
      "cell_type": "code",
      "metadata": {
        "id": "sJbZkMAL7VEq"
      },
      "source": [
        "cnn.add(tf.keras.layers.Conv2D(filters=32, kernel_size=3, activation='relu'))\n",
        "cnn.add(tf.keras.layers.MaxPool2D(pool_size=2, strides=2))"
      ],
      "execution_count": 11,
      "outputs": []
    },
    {
      "cell_type": "code",
      "metadata": {
        "id": "ZDxTc-5a7a9x"
      },
      "source": [
        "cnn.add(tf.keras.layers.Flatten())"
      ],
      "execution_count": 12,
      "outputs": []
    },
    {
      "cell_type": "code",
      "metadata": {
        "id": "Sz_hZ4nH7d9h"
      },
      "source": [
        "cnn.add(tf.keras.layers.Dense(units=128, activation='relu'))"
      ],
      "execution_count": 13,
      "outputs": []
    },
    {
      "cell_type": "code",
      "metadata": {
        "id": "tz35SFXz7g8U"
      },
      "source": [
        "cnn.add(tf.keras.layers.Dense(units=1, activation='sigmoid'))"
      ],
      "execution_count": 14,
      "outputs": []
    },
    {
      "cell_type": "code",
      "metadata": {
        "id": "XeLZJgjA7mUZ"
      },
      "source": [
        "cnn.compile(optimizer = 'adam', loss = 'binary_crossentropy', metrics = ['accuracy'])"
      ],
      "execution_count": 15,
      "outputs": []
    },
    {
      "cell_type": "code",
      "metadata": {
        "id": "HNnFebLk7r2a",
        "outputId": "c8f4c1bf-858d-4bbe-a881-c1e77fe28e19",
        "colab": {
          "base_uri": "https://localhost:8080/",
          "height": 874
        }
      },
      "source": [
        "cnn.fit(x = training_set, validation_data = test_set, epochs = 25)"
      ],
      "execution_count": 16,
      "outputs": [
        {
          "output_type": "stream",
          "text": [
            "Epoch 1/25\n",
            "12/12 [==============================] - 272s 23s/step - loss: 0.6722 - accuracy: 0.6389 - val_loss: 0.5047 - val_accuracy: 0.7125\n",
            "Epoch 2/25\n",
            "12/12 [==============================] - 10s 822ms/step - loss: 0.4580 - accuracy: 0.7917 - val_loss: 0.3214 - val_accuracy: 0.8625\n",
            "Epoch 3/25\n",
            "12/12 [==============================] - 9s 739ms/step - loss: 0.3369 - accuracy: 0.8806 - val_loss: 0.2936 - val_accuracy: 0.9125\n",
            "Epoch 4/25\n",
            "12/12 [==============================] - 9s 738ms/step - loss: 0.2974 - accuracy: 0.8972 - val_loss: 0.2420 - val_accuracy: 0.9375\n",
            "Epoch 5/25\n",
            "12/12 [==============================] - 9s 758ms/step - loss: 0.2821 - accuracy: 0.8889 - val_loss: 0.2762 - val_accuracy: 0.9125\n",
            "Epoch 6/25\n",
            "12/12 [==============================] - 9s 764ms/step - loss: 0.2469 - accuracy: 0.9028 - val_loss: 0.3065 - val_accuracy: 0.8875\n",
            "Epoch 7/25\n",
            "12/12 [==============================] - 9s 757ms/step - loss: 0.2317 - accuracy: 0.9194 - val_loss: 0.2628 - val_accuracy: 0.9125\n",
            "Epoch 8/25\n",
            "12/12 [==============================] - 9s 781ms/step - loss: 0.2182 - accuracy: 0.9111 - val_loss: 0.2634 - val_accuracy: 0.9000\n",
            "Epoch 9/25\n",
            "12/12 [==============================] - 9s 749ms/step - loss: 0.2105 - accuracy: 0.9139 - val_loss: 0.3971 - val_accuracy: 0.8375\n",
            "Epoch 10/25\n",
            "12/12 [==============================] - 9s 771ms/step - loss: 0.1807 - accuracy: 0.9444 - val_loss: 0.2835 - val_accuracy: 0.9125\n",
            "Epoch 11/25\n",
            "12/12 [==============================] - 9s 767ms/step - loss: 0.2001 - accuracy: 0.9306 - val_loss: 0.3522 - val_accuracy: 0.9125\n",
            "Epoch 12/25\n",
            "12/12 [==============================] - 9s 767ms/step - loss: 0.1999 - accuracy: 0.9250 - val_loss: 0.3760 - val_accuracy: 0.8875\n",
            "Epoch 13/25\n",
            "12/12 [==============================] - 9s 757ms/step - loss: 0.2114 - accuracy: 0.9278 - val_loss: 0.3333 - val_accuracy: 0.8750\n",
            "Epoch 14/25\n",
            "12/12 [==============================] - 10s 837ms/step - loss: 0.1667 - accuracy: 0.9361 - val_loss: 0.3744 - val_accuracy: 0.9125\n",
            "Epoch 15/25\n",
            "12/12 [==============================] - 9s 756ms/step - loss: 0.1605 - accuracy: 0.9500 - val_loss: 0.7003 - val_accuracy: 0.7750\n",
            "Epoch 16/25\n",
            "12/12 [==============================] - 9s 748ms/step - loss: 0.2079 - accuracy: 0.9250 - val_loss: 0.5102 - val_accuracy: 0.8125\n",
            "Epoch 17/25\n",
            "12/12 [==============================] - 9s 757ms/step - loss: 0.1546 - accuracy: 0.9472 - val_loss: 0.4103 - val_accuracy: 0.9125\n",
            "Epoch 18/25\n",
            "12/12 [==============================] - 9s 768ms/step - loss: 0.1672 - accuracy: 0.9278 - val_loss: 0.3369 - val_accuracy: 0.9250\n",
            "Epoch 19/25\n",
            "12/12 [==============================] - 10s 831ms/step - loss: 0.1486 - accuracy: 0.9417 - val_loss: 0.3337 - val_accuracy: 0.9125\n",
            "Epoch 20/25\n",
            "12/12 [==============================] - 9s 773ms/step - loss: 0.1248 - accuracy: 0.9583 - val_loss: 0.3478 - val_accuracy: 0.9250\n",
            "Epoch 21/25\n",
            "12/12 [==============================] - 10s 792ms/step - loss: 0.1118 - accuracy: 0.9583 - val_loss: 0.3183 - val_accuracy: 0.9125\n",
            "Epoch 22/25\n",
            "12/12 [==============================] - 9s 766ms/step - loss: 0.0819 - accuracy: 0.9806 - val_loss: 0.3583 - val_accuracy: 0.9250\n",
            "Epoch 23/25\n",
            "12/12 [==============================] - 9s 780ms/step - loss: 0.0776 - accuracy: 0.9667 - val_loss: 0.4213 - val_accuracy: 0.9250\n",
            "Epoch 24/25\n",
            "12/12 [==============================] - 9s 770ms/step - loss: 0.1087 - accuracy: 0.9667 - val_loss: 0.4050 - val_accuracy: 0.9250\n",
            "Epoch 25/25\n",
            "12/12 [==============================] - 9s 775ms/step - loss: 0.0927 - accuracy: 0.9583 - val_loss: 0.5345 - val_accuracy: 0.8875\n"
          ],
          "name": "stdout"
        },
        {
          "output_type": "execute_result",
          "data": {
            "text/plain": [
              "<tensorflow.python.keras.callbacks.History at 0x7fd8550f0b70>"
            ]
          },
          "metadata": {
            "tags": []
          },
          "execution_count": 16
        }
      ]
    },
    {
      "cell_type": "code",
      "metadata": {
        "id": "g9B8NF4D-BpY"
      },
      "source": [
        "import numpy as np\n",
        "from keras.preprocessing import image\n",
        "test_image = image.load_img('/content/drive/My Drive/face_mask/single prediction/with_or_without_mask.jpg', target_size = (64, 64))\n",
        "test_image = image.img_to_array(test_image)\n",
        "test_image = np.expand_dims(test_image, axis = 0)\n",
        "result = cnn.predict(test_image)\n",
        "training_set.class_indices\n",
        "if result[0][0] == 1:\n",
        "  prediction = 'with_mask'\n",
        "else:\n",
        "  prediction = 'without_mask'"
      ],
      "execution_count": 22,
      "outputs": []
    },
    {
      "cell_type": "code",
      "metadata": {
        "id": "wel-5btc-PC-",
        "outputId": "a39d44be-430d-4804-e20d-bb2b03d1ef35",
        "colab": {
          "base_uri": "https://localhost:8080/",
          "height": 34
        }
      },
      "source": [
        "print(prediction)"
      ],
      "execution_count": 23,
      "outputs": [
        {
          "output_type": "stream",
          "text": [
            "without_mask\n"
          ],
          "name": "stdout"
        }
      ]
    }
  ]
}